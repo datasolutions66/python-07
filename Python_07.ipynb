{
  "nbformat": 4,
  "nbformat_minor": 0,
  "metadata": {
    "colab": {
      "provenance": []
    },
    "kernelspec": {
      "name": "python3",
      "display_name": "Python 3"
    },
    "language_info": {
      "name": "python"
    }
  },
  "cells": [
    {
      "cell_type": "markdown",
      "source": [],
      "metadata": {
        "id": "4SClnY7Z6LOK"
      }
    },
    {
      "cell_type": "markdown",
      "source": [
        "#Summary:-\n",
        "##Multi Assignment of Variables\n",
        "##User Input:- How to take User Input\n",
        "##Type Casting \n",
        "##Type Conversion\n",
        "(String to Integer, Float to Integer, Integer to Float, Integer to Boolean, String to Boolean, Empty String to Boolean, Empty String to Boolean:- with space, Empty String to Integer)\n",
        "##Memory Block\n"
      ],
      "metadata": {
        "id": "IOZbF5FB6nrh"
      }
    },
    {
      "cell_type": "markdown",
      "source": [
        "##Multi Assignment of Variables:-"
      ],
      "metadata": {
        "id": "NEDw-h0a6tDA"
      }
    },
    {
      "cell_type": "code",
      "source": [
        "a, b, c, yes = 15, 22.3, \"Dipanjan\", True\n",
        "\n",
        "type(a)"
      ],
      "metadata": {
        "colab": {
          "base_uri": "https://localhost:8080/"
        },
        "id": "0_JMPsfo6Xe5",
        "outputId": "6e763b93-866e-433e-826d-0941c47d2fed"
      },
      "execution_count": 4,
      "outputs": [
        {
          "output_type": "execute_result",
          "data": {
            "text/plain": [
              "int"
            ]
          },
          "metadata": {},
          "execution_count": 4
        }
      ]
    },
    {
      "cell_type": "code",
      "source": [
        "type(b)\n"
      ],
      "metadata": {
        "colab": {
          "base_uri": "https://localhost:8080/"
        },
        "id": "y_K1dSlX7TXi",
        "outputId": "a9bb2964-4615-4e98-c7af-e8f4403cfd1a"
      },
      "execution_count": 6,
      "outputs": [
        {
          "output_type": "execute_result",
          "data": {
            "text/plain": [
              "float"
            ]
          },
          "metadata": {},
          "execution_count": 6
        }
      ]
    },
    {
      "cell_type": "code",
      "source": [
        "type(c)"
      ],
      "metadata": {
        "colab": {
          "base_uri": "https://localhost:8080/"
        },
        "id": "EmBL-xej7bNA",
        "outputId": "d42dc07f-c058-4bbc-f614-437bea69e5c6"
      },
      "execution_count": 7,
      "outputs": [
        {
          "output_type": "execute_result",
          "data": {
            "text/plain": [
              "str"
            ]
          },
          "metadata": {},
          "execution_count": 7
        }
      ]
    },
    {
      "cell_type": "code",
      "source": [
        "type(yes)"
      ],
      "metadata": {
        "colab": {
          "base_uri": "https://localhost:8080/"
        },
        "id": "rjphh9EJ7iew",
        "outputId": "e5773c82-0975-4c82-9222-c2e23299658b"
      },
      "execution_count": 8,
      "outputs": [
        {
          "output_type": "execute_result",
          "data": {
            "text/plain": [
              "bool"
            ]
          },
          "metadata": {},
          "execution_count": 8
        }
      ]
    },
    {
      "cell_type": "code",
      "source": [
        "type(a, b, c, yes)"
      ],
      "metadata": {
        "colab": {
          "base_uri": "https://localhost:8080/",
          "height": 166
        },
        "id": "cWswxVCk7new",
        "outputId": "cdb68628-43d3-48ff-a7fd-baffb7549d35"
      },
      "execution_count": 9,
      "outputs": [
        {
          "output_type": "error",
          "ename": "TypeError",
          "evalue": "ignored",
          "traceback": [
            "\u001b[0;31m---------------------------------------------------------------------------\u001b[0m",
            "\u001b[0;31mTypeError\u001b[0m                                 Traceback (most recent call last)",
            "\u001b[0;32m<ipython-input-9-2554bc75a8b1>\u001b[0m in \u001b[0;36m<module>\u001b[0;34m\u001b[0m\n\u001b[0;32m----> 1\u001b[0;31m \u001b[0mtype\u001b[0m\u001b[0;34m(\u001b[0m\u001b[0ma\u001b[0m\u001b[0;34m,\u001b[0m \u001b[0mb\u001b[0m\u001b[0;34m,\u001b[0m \u001b[0mc\u001b[0m\u001b[0;34m,\u001b[0m \u001b[0myes\u001b[0m\u001b[0;34m)\u001b[0m\u001b[0;34m\u001b[0m\u001b[0;34m\u001b[0m\u001b[0m\n\u001b[0m",
            "\u001b[0;31mTypeError\u001b[0m: type() takes 1 or 3 arguments"
          ]
        }
      ]
    },
    {
      "cell_type": "code",
      "source": [
        "type(a, b, c)"
      ],
      "metadata": {
        "colab": {
          "base_uri": "https://localhost:8080/",
          "height": 166
        },
        "id": "HysWfgFW8DH5",
        "outputId": "2fffbe83-9a15-4026-a5fc-863832ef900a"
      },
      "execution_count": 10,
      "outputs": [
        {
          "output_type": "error",
          "ename": "TypeError",
          "evalue": "ignored",
          "traceback": [
            "\u001b[0;31m---------------------------------------------------------------------------\u001b[0m",
            "\u001b[0;31mTypeError\u001b[0m                                 Traceback (most recent call last)",
            "\u001b[0;32m<ipython-input-10-91fcd09a78f1>\u001b[0m in \u001b[0;36m<module>\u001b[0;34m\u001b[0m\n\u001b[0;32m----> 1\u001b[0;31m \u001b[0mtype\u001b[0m\u001b[0;34m(\u001b[0m\u001b[0ma\u001b[0m\u001b[0;34m,\u001b[0m \u001b[0mb\u001b[0m\u001b[0;34m,\u001b[0m \u001b[0mc\u001b[0m\u001b[0;34m)\u001b[0m\u001b[0;34m\u001b[0m\u001b[0;34m\u001b[0m\u001b[0m\n\u001b[0m",
            "\u001b[0;31mTypeError\u001b[0m: type.__new__() argument 1 must be str, not int"
          ]
        }
      ]
    },
    {
      "cell_type": "code",
      "source": [
        "type(a)  #Its take only One Argument"
      ],
      "metadata": {
        "colab": {
          "base_uri": "https://localhost:8080/"
        },
        "id": "XwwU44vv8IW4",
        "outputId": "2e64358e-e83a-492c-a9d1-1d0b6d9e752c"
      },
      "execution_count": 12,
      "outputs": [
        {
          "output_type": "execute_result",
          "data": {
            "text/plain": [
              "int"
            ]
          },
          "metadata": {},
          "execution_count": 12
        }
      ]
    },
    {
      "cell_type": "code",
      "source": [
        "type(a)  # if you do like this, it will give you only Last One\n",
        "type(b)\n",
        "type(c)\n",
        "type(yes)"
      ],
      "metadata": {
        "colab": {
          "base_uri": "https://localhost:8080/"
        },
        "id": "2-222I1_8MHJ",
        "outputId": "75ad5508-0633-40c6-8cc5-4766582eb2b8"
      },
      "execution_count": 13,
      "outputs": [
        {
          "output_type": "execute_result",
          "data": {
            "text/plain": [
              "bool"
            ]
          },
          "metadata": {},
          "execution_count": 13
        }
      ]
    },
    {
      "cell_type": "code",
      "source": [
        "print(a, b, c, yes)"
      ],
      "metadata": {
        "colab": {
          "base_uri": "https://localhost:8080/"
        },
        "id": "cbWhTFRE8laZ",
        "outputId": "ee714e01-82c7-4ce3-a599-2491a55b2aad"
      },
      "execution_count": 14,
      "outputs": [
        {
          "output_type": "stream",
          "name": "stdout",
          "text": [
            "15 22.3 Dipanjan True\n"
          ]
        }
      ]
    },
    {
      "cell_type": "markdown",
      "source": [
        "###Multi Assignment of Variables:- Example 01 => Create Email ID\n"
      ],
      "metadata": {
        "id": "AHW_No7rKw2X"
      }
    },
    {
      "cell_type": "code",
      "source": [
        "firstName, middleName, lastName = \"Dipanjan\", \"Chandra\", \"Das\"\n",
        "print(f\"{firstName}.{lastName}@gmail.com\")"
      ],
      "metadata": {
        "colab": {
          "base_uri": "https://localhost:8080/"
        },
        "id": "0QE3gSGTK3VB",
        "outputId": "0d3b9702-dff1-4e67-ccbd-d86b77e2169b"
      },
      "execution_count": 41,
      "outputs": [
        {
          "output_type": "stream",
          "name": "stdout",
          "text": [
            "Dipanjan.Das@gmail.com\n"
          ]
        }
      ]
    },
    {
      "cell_type": "markdown",
      "source": [
        "###Multi Assignment of Variables:- Example 02 =>"
      ],
      "metadata": {
        "id": "fWxFQqvbNcWX"
      }
    },
    {
      "cell_type": "code",
      "source": [
        "name, place, year_of_birth, weight = \"Dipanjan\", \"West Bengal\", 1992, 66\n",
        "print(f\"\"\"\n",
        "My Name is: {name}\n",
        "I Live at: {place}\n",
        "I was Born in: {year_of_birth}\n",
        "My Weight is: {weight} in kgs\"\"\")"
      ],
      "metadata": {
        "colab": {
          "base_uri": "https://localhost:8080/"
        },
        "id": "5de7sELBMfhw",
        "outputId": "a091b6d3-5d68-4155-d6db-62c3dfb7bcd0"
      },
      "execution_count": 43,
      "outputs": [
        {
          "output_type": "stream",
          "name": "stdout",
          "text": [
            "\n",
            "My Name is: Dipanjan\n",
            "I Live at: West Bengal\n",
            "I was Born in: 1992\n",
            "My Weight is: 66 in kgs\n"
          ]
        }
      ]
    },
    {
      "cell_type": "markdown",
      "source": [
        "##User Input:- How to take User Input"
      ],
      "metadata": {
        "id": "zTGIwjZz-VK4"
      }
    },
    {
      "cell_type": "code",
      "source": [
        "name = input(\"Enter your Name: \")\n",
        "print(f\"You have entered: {name}\")"
      ],
      "metadata": {
        "colab": {
          "base_uri": "https://localhost:8080/"
        },
        "id": "GP9Y6HdC9huo",
        "outputId": "62767b60-2290-48be-aaba-fab790f45976"
      },
      "execution_count": 17,
      "outputs": [
        {
          "output_type": "stream",
          "name": "stdout",
          "text": [
            "Enter your Name: Dipanjan Das\n",
            "You have entered: Dipanjan Das\n"
          ]
        }
      ]
    },
    {
      "cell_type": "markdown",
      "source": [
        "##Type Casting | Type Conversion:-\n",
        "We can convert the one Data type to anather if it is allowed."
      ],
      "metadata": {
        "id": "Jm8P_qWI_sGw"
      }
    },
    {
      "cell_type": "code",
      "source": [
        "A = int(input(\"Enter Value of A: \"))\n",
        "B = int(input(\"Enter Value of B: \"))\n",
        "print(type(A), type(B))\n",
        "print(f\"Sum of A and B is: {A+B}\")"
      ],
      "metadata": {
        "colab": {
          "base_uri": "https://localhost:8080/"
        },
        "id": "C_OP2EWo-_c5",
        "outputId": "9852a3b0-5bfd-46fd-ae31-ca0415205581"
      },
      "execution_count": 23,
      "outputs": [
        {
          "output_type": "stream",
          "name": "stdout",
          "text": [
            "Enter Value of A: 12\n",
            "Enter Value of B: 14\n",
            "<class 'int'> <class 'int'>\n",
            "Sum of A and B is: 26\n"
          ]
        }
      ]
    },
    {
      "cell_type": "code",
      "source": [],
      "metadata": {
        "colab": {
          "base_uri": "https://localhost:8080/"
        },
        "id": "iWVS9uZSAsow",
        "outputId": "739f7a99-a84a-44da-c28f-4eb9f8e42039"
      },
      "execution_count": 21,
      "outputs": [
        {
          "output_type": "stream",
          "name": "stdout",
          "text": [
            "Sum of A and B is: 26\n"
          ]
        }
      ]
    },
    {
      "cell_type": "code",
      "source": [
        "A = float(input(\"Enter Value of A: \"))\n",
        "B = float(input(\"Enter Value of B: \"))\n",
        "print(f\"Sum of A and B is: {A+B}\")"
      ],
      "metadata": {
        "colab": {
          "base_uri": "https://localhost:8080/"
        },
        "id": "iNmYkRRrBhcQ",
        "outputId": "08f3181e-eb60-4b3d-c737-cbe58fd8b17e"
      },
      "execution_count": 22,
      "outputs": [
        {
          "output_type": "stream",
          "name": "stdout",
          "text": [
            "Enter Value of A: 12.6\n",
            "Enter Value of B: 18.12\n",
            "Sum of A and B is: 30.72\n"
          ]
        }
      ]
    },
    {
      "cell_type": "code",
      "source": [
        "A = float(input(\"Enter Value of A: \"))\n",
        "B = int(input(\"Enter Value of B: \"))\n",
        "print(f\"Sum of A and B is: {A+B}\")"
      ],
      "metadata": {
        "colab": {
          "base_uri": "https://localhost:8080/"
        },
        "id": "Lw_onL6SCOI4",
        "outputId": "c5c0739a-e61f-4e77-9c0c-979c02368776"
      },
      "execution_count": 24,
      "outputs": [
        {
          "output_type": "stream",
          "name": "stdout",
          "text": [
            "Enter Value of A: 12.5\n",
            "Enter Value of B: 14\n",
            "Sum of A and B is: 26.5\n"
          ]
        }
      ]
    },
    {
      "cell_type": "markdown",
      "source": [
        "##Type Conversion:-\n"
      ],
      "metadata": {
        "id": "UCba8HLODgMQ"
      }
    },
    {
      "cell_type": "markdown",
      "source": [
        "###String to Integer"
      ],
      "metadata": {
        "id": "rGxGlttTDk2h"
      }
    },
    {
      "cell_type": "code",
      "source": [
        "A = \"50\"\n",
        "int(A)"
      ],
      "metadata": {
        "colab": {
          "base_uri": "https://localhost:8080/"
        },
        "id": "i4GBVnt9Cy3g",
        "outputId": "a7f8d4c8-0aa2-4275-b505-6298de28bb34"
      },
      "execution_count": 28,
      "outputs": [
        {
          "output_type": "execute_result",
          "data": {
            "text/plain": [
              "50"
            ]
          },
          "metadata": {},
          "execution_count": 28
        }
      ]
    },
    {
      "cell_type": "code",
      "source": [
        "A = \"50.22\"  #Entering Float in String and convert to integer is not allowed.\n",
        "int(A)  "
      ],
      "metadata": {
        "colab": {
          "base_uri": "https://localhost:8080/",
          "height": 184
        },
        "id": "khEVMXymD145",
        "outputId": "b8d94807-294a-4938-af9f-20c769cfc866"
      },
      "execution_count": 29,
      "outputs": [
        {
          "output_type": "error",
          "ename": "ValueError",
          "evalue": "ignored",
          "traceback": [
            "\u001b[0;31m---------------------------------------------------------------------------\u001b[0m",
            "\u001b[0;31mValueError\u001b[0m                                Traceback (most recent call last)",
            "\u001b[0;32m<ipython-input-29-b1ff44871a37>\u001b[0m in \u001b[0;36m<module>\u001b[0;34m\u001b[0m\n\u001b[1;32m      1\u001b[0m \u001b[0mA\u001b[0m \u001b[0;34m=\u001b[0m \u001b[0;34m\"50.22\"\u001b[0m  \u001b[0;31m#Entering Float\u001b[0m\u001b[0;34m\u001b[0m\u001b[0;34m\u001b[0m\u001b[0m\n\u001b[0;32m----> 2\u001b[0;31m \u001b[0mint\u001b[0m\u001b[0;34m(\u001b[0m\u001b[0mA\u001b[0m\u001b[0;34m)\u001b[0m\u001b[0;34m\u001b[0m\u001b[0;34m\u001b[0m\u001b[0m\n\u001b[0m",
            "\u001b[0;31mValueError\u001b[0m: invalid literal for int() with base 10: '50.22'"
          ]
        }
      ]
    },
    {
      "cell_type": "markdown",
      "source": [
        "###Float to Integer:-"
      ],
      "metadata": {
        "id": "wfe72voWExTg"
      }
    },
    {
      "cell_type": "code",
      "source": [
        "A = 50.22\n",
        "int(A)"
      ],
      "metadata": {
        "colab": {
          "base_uri": "https://localhost:8080/"
        },
        "id": "9cE5UcwREJdo",
        "outputId": "ba92dd31-ddfd-46bf-ebf4-b85eee06359d"
      },
      "execution_count": 30,
      "outputs": [
        {
          "output_type": "execute_result",
          "data": {
            "text/plain": [
              "50"
            ]
          },
          "metadata": {},
          "execution_count": 30
        }
      ]
    },
    {
      "cell_type": "markdown",
      "source": [
        "###Integer to Float:-"
      ],
      "metadata": {
        "id": "pnAK4AehHQyP"
      }
    },
    {
      "cell_type": "code",
      "source": [
        "A = 50\n",
        "float(A)"
      ],
      "metadata": {
        "colab": {
          "base_uri": "https://localhost:8080/"
        },
        "id": "ijuj6STQFrTQ",
        "outputId": "9677e9e5-4b52-4608-cda0-f659a4ed11a1"
      },
      "execution_count": 31,
      "outputs": [
        {
          "output_type": "execute_result",
          "data": {
            "text/plain": [
              "50.0"
            ]
          },
          "metadata": {},
          "execution_count": 31
        }
      ]
    },
    {
      "cell_type": "markdown",
      "source": [
        "###NOTE:- Converting any non-zero number and string values into Boolean will give True. \n",
        "###NOTE:- Empty String will give False after converting String to Boolean."
      ],
      "metadata": {
        "id": "hkdMaq_9PoIw"
      }
    },
    {
      "cell_type": "markdown",
      "source": [
        "###Integer to Boolean:-"
      ],
      "metadata": {
        "id": "u8qCXRoEHz24"
      }
    },
    {
      "cell_type": "code",
      "source": [
        "A = 50\n",
        "bool(A)"
      ],
      "metadata": {
        "colab": {
          "base_uri": "https://localhost:8080/"
        },
        "id": "QWsvXSkoHhfn",
        "outputId": "c279747d-49bf-4266-a861-e3c53a7b491d"
      },
      "execution_count": 32,
      "outputs": [
        {
          "output_type": "execute_result",
          "data": {
            "text/plain": [
              "True"
            ]
          },
          "metadata": {},
          "execution_count": 32
        }
      ]
    },
    {
      "cell_type": "code",
      "source": [
        "A = 0\n",
        "bool(A)"
      ],
      "metadata": {
        "colab": {
          "base_uri": "https://localhost:8080/"
        },
        "id": "vDdc5apoIA53",
        "outputId": "f7fcc941-81db-4f88-d025-a87cd7acc8c6"
      },
      "execution_count": 33,
      "outputs": [
        {
          "output_type": "execute_result",
          "data": {
            "text/plain": [
              "False"
            ]
          },
          "metadata": {},
          "execution_count": 33
        }
      ]
    },
    {
      "cell_type": "code",
      "source": [
        "A = -6\n",
        "bool(A)"
      ],
      "metadata": {
        "colab": {
          "base_uri": "https://localhost:8080/"
        },
        "id": "nZMVUzPdILzY",
        "outputId": "292b0b95-8878-4992-e061-2141dd84fbd0"
      },
      "execution_count": 34,
      "outputs": [
        {
          "output_type": "execute_result",
          "data": {
            "text/plain": [
              "True"
            ]
          },
          "metadata": {},
          "execution_count": 34
        }
      ]
    },
    {
      "cell_type": "code",
      "source": [
        "A = 6.5\n",
        "bool(A)"
      ],
      "metadata": {
        "colab": {
          "base_uri": "https://localhost:8080/"
        },
        "id": "wc2_BDNxIV7A",
        "outputId": "3018b439-2902-4307-9d68-b8559e068b3b"
      },
      "execution_count": 35,
      "outputs": [
        {
          "output_type": "execute_result",
          "data": {
            "text/plain": [
              "True"
            ]
          },
          "metadata": {},
          "execution_count": 35
        }
      ]
    },
    {
      "cell_type": "markdown",
      "source": [
        "###String to Boolean:-"
      ],
      "metadata": {
        "id": "kokIhnSVI6Hp"
      }
    },
    {
      "cell_type": "code",
      "source": [
        "A = \"Dipanjan\"\n",
        "bool(A)"
      ],
      "metadata": {
        "colab": {
          "base_uri": "https://localhost:8080/"
        },
        "id": "qrWY_bE8IdRX",
        "outputId": "ff8c7b38-77ff-495b-f1c3-2ad7052c0da5"
      },
      "execution_count": 36,
      "outputs": [
        {
          "output_type": "execute_result",
          "data": {
            "text/plain": [
              "True"
            ]
          },
          "metadata": {},
          "execution_count": 36
        }
      ]
    },
    {
      "cell_type": "code",
      "source": [
        "A = \"True\"\n",
        "bool(A)"
      ],
      "metadata": {
        "colab": {
          "base_uri": "https://localhost:8080/"
        },
        "id": "DDALrI_6Innv",
        "outputId": "ff7ca7f4-874b-4a5c-d0e6-36433e44f6e5"
      },
      "execution_count": 37,
      "outputs": [
        {
          "output_type": "execute_result",
          "data": {
            "text/plain": [
              "True"
            ]
          },
          "metadata": {},
          "execution_count": 37
        }
      ]
    },
    {
      "cell_type": "code",
      "source": [
        "A = \"False\"  #It reading it as String\n",
        "bool(A)"
      ],
      "metadata": {
        "colab": {
          "base_uri": "https://localhost:8080/"
        },
        "id": "XSZWbEkyJApX",
        "outputId": "e302885d-a53e-4c64-f27e-6edf1aae60e1"
      },
      "execution_count": 38,
      "outputs": [
        {
          "output_type": "execute_result",
          "data": {
            "text/plain": [
              "True"
            ]
          },
          "metadata": {},
          "execution_count": 38
        }
      ]
    },
    {
      "cell_type": "markdown",
      "source": [
        "###Empty String to Boolean:-"
      ],
      "metadata": {
        "id": "bM-WVub8JWaf"
      }
    },
    {
      "cell_type": "code",
      "source": [
        "A = \"\"  \n",
        "bool(A)"
      ],
      "metadata": {
        "colab": {
          "base_uri": "https://localhost:8080/"
        },
        "id": "iOKBobk1JDqo",
        "outputId": "a95ab6bd-a9ea-4a7a-92c9-72193c1f0aa9"
      },
      "execution_count": 39,
      "outputs": [
        {
          "output_type": "execute_result",
          "data": {
            "text/plain": [
              "False"
            ]
          },
          "metadata": {},
          "execution_count": 39
        }
      ]
    },
    {
      "cell_type": "markdown",
      "source": [
        "###Empty String to Boolean:- with space"
      ],
      "metadata": {
        "id": "nDVwyS2EQsbu"
      }
    },
    {
      "cell_type": "code",
      "source": [
        "A = \" \"    #Empty String with Space\n",
        "bool(A)"
      ],
      "metadata": {
        "colab": {
          "base_uri": "https://localhost:8080/"
        },
        "id": "dcBBVEY2Qw9e",
        "outputId": "d5e531f6-812d-43b7-8824-58137805825a"
      },
      "execution_count": 44,
      "outputs": [
        {
          "output_type": "execute_result",
          "data": {
            "text/plain": [
              "True"
            ]
          },
          "metadata": {},
          "execution_count": 44
        }
      ]
    },
    {
      "cell_type": "markdown",
      "source": [
        "###Empty String to Integer:-"
      ],
      "metadata": {
        "id": "-fKt1SVYJt5Y"
      }
    },
    {
      "cell_type": "code",
      "source": [
        "A = \"\"  \n",
        "int(A)"
      ],
      "metadata": {
        "colab": {
          "base_uri": "https://localhost:8080/",
          "height": 184
        },
        "id": "RndufoWYJfnf",
        "outputId": "39389340-8a2f-4e21-a146-be7c179130a9"
      },
      "execution_count": 40,
      "outputs": [
        {
          "output_type": "error",
          "ename": "ValueError",
          "evalue": "ignored",
          "traceback": [
            "\u001b[0;31m---------------------------------------------------------------------------\u001b[0m",
            "\u001b[0;31mValueError\u001b[0m                                Traceback (most recent call last)",
            "\u001b[0;32m<ipython-input-40-109e83db2001>\u001b[0m in \u001b[0;36m<module>\u001b[0;34m\u001b[0m\n\u001b[1;32m      1\u001b[0m \u001b[0mA\u001b[0m \u001b[0;34m=\u001b[0m \u001b[0;34m\"\"\u001b[0m\u001b[0;34m\u001b[0m\u001b[0;34m\u001b[0m\u001b[0m\n\u001b[0;32m----> 2\u001b[0;31m \u001b[0mint\u001b[0m\u001b[0;34m(\u001b[0m\u001b[0mA\u001b[0m\u001b[0;34m)\u001b[0m\u001b[0;34m\u001b[0m\u001b[0;34m\u001b[0m\u001b[0m\n\u001b[0m",
            "\u001b[0;31mValueError\u001b[0m: invalid literal for int() with base 10: ''"
          ]
        }
      ]
    },
    {
      "cell_type": "markdown",
      "source": [
        "###Memory Block :- Memory Location"
      ],
      "metadata": {
        "id": "cTlkYBMmRM8G"
      }
    },
    {
      "cell_type": "code",
      "source": [
        "a = 22\n",
        "b = 34\n",
        "c = 22\n",
        "id(a)   #Memory Location"
      ],
      "metadata": {
        "colab": {
          "base_uri": "https://localhost:8080/"
        },
        "id": "av4S1f1wJ0QA",
        "outputId": "8a97f270-06ac-4131-e7fd-a485e7a2aea4"
      },
      "execution_count": 45,
      "outputs": [
        {
          "output_type": "execute_result",
          "data": {
            "text/plain": [
              "140472839945168"
            ]
          },
          "metadata": {},
          "execution_count": 45
        }
      ]
    },
    {
      "cell_type": "code",
      "source": [
        "id(b)"
      ],
      "metadata": {
        "colab": {
          "base_uri": "https://localhost:8080/"
        },
        "id": "OSYBEzZlRkvH",
        "outputId": "7e51ca95-375f-4e7c-e259-e43252ad2f42"
      },
      "execution_count": 46,
      "outputs": [
        {
          "output_type": "execute_result",
          "data": {
            "text/plain": [
              "140472839945552"
            ]
          },
          "metadata": {},
          "execution_count": 46
        }
      ]
    },
    {
      "cell_type": "code",
      "source": [
        "id(c)"
      ],
      "metadata": {
        "colab": {
          "base_uri": "https://localhost:8080/"
        },
        "id": "nQHVMkojRrhW",
        "outputId": "fd989252-4d9f-4da0-fb4b-01c01076d9fd"
      },
      "execution_count": 47,
      "outputs": [
        {
          "output_type": "execute_result",
          "data": {
            "text/plain": [
              "140472839945168"
            ]
          },
          "metadata": {},
          "execution_count": 47
        }
      ]
    },
    {
      "cell_type": "code",
      "source": [
        "print(id(a), id(b), id(c))"
      ],
      "metadata": {
        "colab": {
          "base_uri": "https://localhost:8080/"
        },
        "id": "siwwTw1NSmXn",
        "outputId": "6d9f73fc-8634-4fcf-846d-d6c1c3aa1f72"
      },
      "execution_count": 48,
      "outputs": [
        {
          "output_type": "stream",
          "name": "stdout",
          "text": [
            "140472839945168 140472839945552 140472839945168\n"
          ]
        }
      ]
    },
    {
      "cell_type": "markdown",
      "source": [
        "###NOTE:- Memory is assigned to the value of variable passed. Not the Variable Name"
      ],
      "metadata": {
        "id": "CGv85O-JSMo_"
      }
    },
    {
      "cell_type": "code",
      "source": [],
      "metadata": {
        "id": "aomih0XKRtS2"
      },
      "execution_count": null,
      "outputs": []
    }
  ]
}